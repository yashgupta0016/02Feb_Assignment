{
 "cells": [
  {
   "cell_type": "code",
   "execution_count": 40,
   "id": "5d2451cd",
   "metadata": {},
   "outputs": [
    {
     "name": "stdout",
     "output_type": "stream",
     "text": [
      "********while loop example*******\n",
      "Enter No.5\n",
      "5\n",
      "4\n",
      "3\n",
      "2\n",
      "1\n",
      "Finished counting down!\n",
      "********for loop example*******\n",
      "1\n",
      "2\n",
      "3\n",
      "4\n",
      "5\n",
      "6\n",
      "7\n",
      "8\n",
      "9\n",
      "10\n"
     ]
    }
   ],
   "source": [
    "# # Q1. Explain with an example each when to use a for loop and a while loop.\n",
    "\n",
    "# for loop is used when we know the no. of iterations for particular operation to be carried out.\n",
    "# We use for loop when we need to repeat a block of code no. of times.\n",
    "\n",
    "\n",
    "\n",
    "# while loop is used when no. of iteration is unknown.\n",
    "# it is used when we need to end loop on a condition rather than no. of itertion.\n",
    "# We use  while loop when we need to repeat a block of code until a certain condition is met\n",
    "\n",
    "\n",
    "# For example(While loop) - cOUNTDOWN OF NO. \n",
    "# Here, we want to keep subtracting a number until it reaches 0\n",
    "# As in this example, we don't know exactly how many times a loop must be iterated and \n",
    "# it must be executed until no. decreased to zero.\n",
    "print(\"********while loop example*******\")\n",
    "number = int(input(\"Enter No.\"))\n",
    "\n",
    "while number >0:\n",
    "    print(number)\n",
    "    number = number -1\n",
    "\n",
    "print(\"Finished counting down!\")\n",
    "\n",
    "#for example (for loop) - print no. from 1 to 10\n",
    "print(\"********for loop example*******\")\n",
    "for i in range(1,11):\n",
    "    print(i)\n",
    "\n"
   ]
  },
  {
   "cell_type": "code",
   "execution_count": 7,
   "id": "cc5e167b",
   "metadata": {},
   "outputs": [
    {
     "name": "stdout",
     "output_type": "stream",
     "text": [
      "*****through for loop********\n",
      "Sum of first 10 Natural No. : 55\n",
      "Product of first 10 Natural No. : 3628800\n",
      "*****through while loop*******\n",
      "Sum of first 10 Natural No. : 55\n",
      "Product of first 10 Natural No. : 3628800\n"
     ]
    }
   ],
   "source": [
    "# Q2. Write a python program to print the sum and product of the first 10 natural numbers using for and while loop.\n",
    "\n",
    "##using for loop\n",
    "sum =0\n",
    "prod =1\n",
    "for i in range(1,11):\n",
    "    sum = sum+i\n",
    "    prod = prod*i\n",
    "print(\"*****through for loop********\")\n",
    "print(\"Sum of first 10 Natural No. :\", sum)\n",
    "print(\"Product of first 10 Natural No. :\",prod)\n",
    "\n",
    "##using while loop\n",
    "i = 1\n",
    "sum_w = 0\n",
    "prod_w = 1\n",
    "while(i<=10):\n",
    "    sum_w = sum_w +1\n",
    "    prod_ = prod_w *i\n",
    "    i = i+1\n",
    "print(\"*****through while loop*******\")\n",
    "print(\"Sum of first 10 Natural No. :\", sum)\n",
    "print(\"Product of first 10 Natural No. :\",prod)\n",
    "    "
   ]
  },
  {
   "cell_type": "code",
   "execution_count": 41,
   "id": "88557dab",
   "metadata": {},
   "outputs": [
    {
     "name": "stdout",
     "output_type": "stream",
     "text": [
      "Enter the unit of electicity consumed in a month: 310\n",
      "2250.0\n"
     ]
    }
   ],
   "source": [
    "# Q3. Create a python program to compute the electricity bill for a household.\n",
    "\n",
    "# The per-unit charges in rupees are as follows: For the first 100 units, the user will be charged Rs. 4.5 per\n",
    "# unit, for the next 100 units, the user will be charged Rs. 6 per unit, and for the next 100 units, the user will\n",
    "# be charged Rs. 10 per unit, After 300 units and above the user will be charged Rs. 20 per unit.\n",
    "# You are required to take the units of electricity consumed in a month from the user as input.\n",
    "# Your program must pass this test case: when the unit of electricity consumed by the user in a month is\n",
    "# 310, the total electricity bill should be 2250.\n",
    "\n",
    "\n",
    "unit = int(input(\"Enter the unit of electicity consumed in a month: \"))\n",
    "if unit <= 100:\n",
    "    bill = unit*4.5\n",
    "elif unit> 100 and unit<=200:\n",
    "    bill = (100*4.5) + ((unit-100)*6)\n",
    "elif unit > 200 and unit <= 300:\n",
    "    bill = (100*4.5) + (100*6) + ((unit - 200) * 10)\n",
    "else:\n",
    "    bill = (100*4.5) + (100*6) +(100*10) + ((unit-300)*20)\n",
    "print(bill)\n",
    "                        \n",
    "    "
   ]
  },
  {
   "cell_type": "code",
   "execution_count": 43,
   "id": "a23bc995",
   "metadata": {},
   "outputs": [
    {
     "name": "stdout",
     "output_type": "stream",
     "text": [
      "***********using for loop************\n",
      "[2, 4, 5, 6, 8, 10, 12, 14, 15, 16, 18, 20, 22, 24, 25, 26, 28, 30, 32, 34, 35, 36, 38, 40, 42, 44, 45, 46, 48, 50, 52, 54, 55, 56, 58, 60, 62, 64, 65, 66, 68, 70, 72, 74, 75, 76, 78, 80, 82, 84, 85, 86, 88, 90, 92, 94, 95, 96, 98, 100]\n",
      "***********using while loop************\n",
      "[2, 4, 5, 6, 8, 10, 12, 14, 15, 16, 18, 20, 22, 24, 25, 26, 28, 30, 32, 34, 35, 36, 38, 40, 42, 44, 45, 46, 48, 50, 52, 54, 55, 56, 58, 60, 62, 64, 65, 66, 68, 70, 72, 74, 75, 76, 78, 80, 82, 84, 85, 86, 88, 90, 92, 94, 95, 96, 98, 100]\n"
     ]
    }
   ],
   "source": [
    "# Q4. Create a list of numbers from 1 to 100. Use for loop and while loop to calculate the cube of each\n",
    "# number and if the cube of that number is divisible by 4 or 5 then append that number in a list and print\n",
    "# that list.\n",
    "\n",
    "#using for loop\n",
    "print(\"***********using for loop************\")\n",
    "l = list(range(1,101))\n",
    "l2 = []\n",
    "for i in l:\n",
    "    if (i**3) % 4 == 0 or (i**3) % 5== 0:\n",
    "        l2.append(i)\n",
    "print(l2)\n",
    "\n",
    "print(\"***********using while loop************\")\n",
    "#using while loop\n",
    "k = 1\n",
    "l3 =[]\n",
    "while k <=100:\n",
    "    if (k**3) % 4 == 0 or (k**3) % 5== 0:\n",
    "        l3.append(k)\n",
    "    k = k+1\n",
    "print(l3)\n",
    "    \n",
    "    \n"
   ]
  },
  {
   "cell_type": "code",
   "execution_count": 30,
   "id": "8c821364",
   "metadata": {},
   "outputs": [
    {
     "name": "stdout",
     "output_type": "stream",
     "text": [
      "12\n"
     ]
    }
   ],
   "source": [
    "#Q5. Write a program to filter count vowels in the below-given string.\n",
    "\n",
    "z = \"I want to become a data scientist\"\n",
    "z1 = \"AEIOUaeiou\"\n",
    "count = 0\n",
    "for i in z:\n",
    "    for j in z1:\n",
    "        if i ==j:\n",
    "            count = count+1\n",
    "print(count)"
   ]
  },
  {
   "cell_type": "code",
   "execution_count": null,
   "id": "cc7bbc9d",
   "metadata": {},
   "outputs": [],
   "source": []
  },
  {
   "cell_type": "code",
   "execution_count": null,
   "id": "e0c3dd07",
   "metadata": {},
   "outputs": [],
   "source": []
  }
 ],
 "metadata": {
  "kernelspec": {
   "display_name": "Python 3 (ipykernel)",
   "language": "python",
   "name": "python3"
  },
  "language_info": {
   "codemirror_mode": {
    "name": "ipython",
    "version": 3
   },
   "file_extension": ".py",
   "mimetype": "text/x-python",
   "name": "python",
   "nbconvert_exporter": "python",
   "pygments_lexer": "ipython3",
   "version": "3.9.13"
  }
 },
 "nbformat": 4,
 "nbformat_minor": 5
}
